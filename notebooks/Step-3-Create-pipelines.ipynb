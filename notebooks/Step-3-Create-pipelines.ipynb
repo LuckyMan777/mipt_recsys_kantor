{
 "cells": [
  {
   "cell_type": "markdown",
   "metadata": {},
   "source": [
    "Рекомендательные системмы являются одними из самых популярных приложений DS. Они используются для прогнозирования предпочтений,  которые пользователь поставит какому-нибудь товару в магазине. Amazon использует их, чтобы предлагать продукты клиентам, YouTube решает какое видео воспроизводить следующим, а Facebook рекомендует посты. Существуют также рекомендательные системы для таких доменов, как рестораны, фильмы и онлайн-знакомства. Более того, для некоторых компаний, таких как Netflix, бизнес-модель и ее успех зависят от эффективности их рекомендаций. Netflix даже предложил миллион долларов в 2009 году каждому, кто сможет улучшить его систему рекомендаций на 10%."
   ]
  },
  {
   "cell_type": "markdown",
   "metadata": {},
   "source": [
    "Вообще говоря, рекомендательные системы могут быть поделены на 3 типа:\n",
    "* Базовый подход: предлагайте общие рекомендации каждому пользователю в зависимости от популярности фильма и / или жанра. Например, Кинопоиск 250.\n",
    "* Content-based рекомендательные системы. Эта система использует метаданные элемента, например жанр, режиссер, описание, актеры и т.д. для фильмов. Общая идея, лежащая в основе этих рекомендательных систем, заключается в том, что если человеку нравится конкретный предмет, ему также понравится предмет, похожий на него. Алгоритм будет использовать метаданные прошлых элементов пользователя. Хорошим примером может служить YouTube, где на основе вашей истории он предлагает вам новые видео, которые вы потенциально можете посмотреть.\n",
    "* Коллаборативная фильтрация. Эти системы пытаются предсказать рейтинг, который пользователь поставит элементу, на основе прошлых оценок и предпочтений других пользователей. Коллаборативной фильтрации не требуются метаданные элемента."
   ]
  },
  {
   "cell_type": "code",
   "execution_count": 2,
   "metadata": {
    "pycharm": {
     "is_executing": false,
     "name": "#%%\n"
    },
    "scrolled": true
   },
   "outputs": [
    {
     "name": "stdout",
     "output_type": "stream",
     "text": [
      "C:\\Users\\lucky_man\\Documents\\mipt_recsys_kantor\n"
     ]
    }
   ],
   "source": [
    "# Set the repository root as a working directory \n",
    "\n",
    "%cd .."
   ]
  },
  {
   "cell_type": "code",
   "execution_count": 21,
   "metadata": {
    "pycharm": {
     "is_executing": false,
     "name": "#%%\n"
    }
   },
   "outputs": [
    {
     "name": "stdout",
     "output_type": "stream",
     "text": [
      "base:\n",
      "  project: mipt_recsys\n",
      "  model:\n",
      "    models_folder: models\n",
      "  reports:\n",
      "    reports_folder: reports\n",
      "  random_state: 42\n",
      "\n",
      "\n",
      "data_load:\n",
      "  metadata_csv: data/external/movies_metadata.csv\n",
      "  links_csv: data/external/links.csv\n",
      "  ratings_csv: data/external/ratings_small.csv\n",
      "\n",
      "train_simple_model:\n",
      "  model:\n",
      "    model_name: simple_model.joblib\n",
      "  tfidf:\n",
      "    max_features: 40000\n",
      "\n",
      "preprocess_svd:\n",
      "  metadata_path: data/processed/movies_metadata.csv\n",
      "  links_path: data/processed/links.csv\n",
      "  ratings_path: data/processed/ratings_small.csv\n",
      "\n",
      "train_and_test_svd:\n",
      "  test_size: 0.25\n",
      "  model:\n",
      "    model_name: svd_model.joblib\n"
     ]
    }
   ],
   "source": [
    "config_path = 'params.yaml'\n",
    "\n",
    "# Look on pipelines config \n",
    "with open(config_path) as conf_file:\n",
    "    config = conf_file.read()\n",
    "    \n",
    "print(config)"
   ]
  },
  {
   "cell_type": "markdown",
   "metadata": {},
   "source": [
    "# Content-based\n",
    "\n",
    "Идея content-based подхода заключается в том, чтобы по истории действий пользователя создать для него вектор его предпочтений в пространстве предметов и рекомендовать товары, близкие к этому вектору.\n",
    "\n",
    "Попробуем рекомендовать фильмы, похожие на конкретный фильм. Для этого вычислим попарные косинусные расстояния для всех фильмов на основе их сюжетных описаний и порекомендуем фильмы на основе этой метрики."
   ]
  },
  {
   "cell_type": "markdown",
   "metadata": {
    "pycharm": {
     "is_executing": false,
     "name": "#%%\n"
    }
   },
   "source": [
    "### Train model, based on cosine similarity"
   ]
  },
  {
   "cell_type": "code",
   "execution_count": 32,
   "metadata": {
    "pycharm": {
     "is_executing": false,
     "name": "#%%\n"
    }
   },
   "outputs": [
    {
     "name": "stdout",
     "output_type": "stream",
     "text": [
      "Wall time: 4min 1s\n"
     ]
    }
   ],
   "source": [
    "%%time\n",
    "from src.pipelines.train_simple import train_simple_model\n",
    "train_simple_model(config_path)\n"
   ]
  },
  {
   "cell_type": "markdown",
   "metadata": {},
   "source": [
    "### Predict for some title "
   ]
  },
  {
   "cell_type": "code",
   "execution_count": 34,
   "metadata": {
    "pycharm": {
     "is_executing": false,
     "name": "#%%\n"
    }
   },
   "outputs": [
    {
     "name": "stdout",
     "output_type": "stream",
     "text": [
      "12481                                      The Dark Knight\n",
      "150                                         Batman Forever\n",
      "1328                                        Batman Returns\n",
      "585                                                 Batman\n",
      "15511                           Batman: Under the Red Hood\n",
      "21194    Batman Unmasked: The Psychology of the Dark Kn...\n",
      "9230                    Batman Beyond: Return of the Joker\n",
      "19792              Batman: The Dark Knight Returns, Part 1\n",
      "18035                                     Batman: Year One\n",
      "3095                          Batman: Mask of the Phantasm\n",
      "Name: title, dtype: object\n",
      "Wall time: 1min 4s\n"
     ]
    }
   ],
   "source": [
    "%%time\n",
    "from src.pipelines.predict_simple import predict_simple_model\n",
    "predict_simple_model(config_path, 'The Dark Knight Rises')"
   ]
  },
  {
   "cell_type": "code",
   "execution_count": null,
   "metadata": {
    "pycharm": {
     "is_executing": false,
     "name": "#%%\n"
    }
   },
   "outputs": [],
   "source": []
  },
  {
   "cell_type": "markdown",
   "metadata": {},
   "source": [
    "# Сollaborative filtering"
   ]
  },
  {
   "cell_type": "markdown",
   "metadata": {},
   "source": [
    "### preprocess data "
   ]
  },
  {
   "cell_type": "code",
   "execution_count": 36,
   "metadata": {
    "pycharm": {
     "is_executing": false,
     "name": "#%%\n"
    }
   },
   "outputs": [
    {
     "name": "stdout",
     "output_type": "stream",
     "text": [
      "Wall time: 4.35 s\n"
     ]
    }
   ],
   "source": [
    "%%time\n",
    "from src.pipelines.preprocess_svd import preprocess_svd\n",
    "preprocess_svd(config_path)"
   ]
  },
  {
   "cell_type": "markdown",
   "metadata": {},
   "source": [
    "### train and evaluate svd "
   ]
  },
  {
   "cell_type": "code",
   "execution_count": 37,
   "metadata": {
    "pycharm": {
     "is_executing": false,
     "name": "#%%\n"
    }
   },
   "outputs": [
    {
     "name": "stdout",
     "output_type": "stream",
     "text": [
      "RMSE: 0.9001\n",
      "0.9001454029024527\n",
      "Wall time: 12.6 s\n"
     ]
    }
   ],
   "source": [
    "%%time\n",
    "from src.pipelines.train_and_test_svd import train_and_test_svd\n",
    "train_and_test_svd(config_path)"
   ]
  },
  {
   "cell_type": "markdown",
   "metadata": {},
   "source": [
    "### predict for some user "
   ]
  },
  {
   "cell_type": "code",
   "execution_count": 38,
   "metadata": {
    "pycharm": {
     "is_executing": false,
     "name": "#%%\n"
    }
   },
   "outputs": [
    {
     "name": "stdout",
     "output_type": "stream",
     "text": [
      "                         ratings\n",
      "movies                          \n",
      "The Godfather           4.570011\n",
      "On the Waterfront       4.512116\n",
      "Chinatown               4.498240\n",
      "Modern Times            4.477477\n",
      "The Godfather: Part II  4.472773\n",
      "Fargo                   4.463801\n",
      "Cinema Paradiso         4.423796\n",
      "It Happened One Night   4.420678\n",
      "The African Queen       4.396103\n",
      "Good Will Hunting       4.391499\n",
      "Wall time: 3.37 s\n"
     ]
    }
   ],
   "source": [
    "%%time\n",
    "from src.pipelines.predict_svd import predict_svd\n",
    "predict_svd(config_path, 2)\n"
   ]
  }
 ],
 "metadata": {
  "kernelspec": {
   "display_name": "PyCharm (task1)",
   "language": "python",
   "name": "pycharm-b455d236"
  },
  "language_info": {
   "codemirror_mode": {
    "name": "ipython",
    "version": 3
   },
   "file_extension": ".py",
   "mimetype": "text/x-python",
   "name": "python",
   "nbconvert_exporter": "python",
   "pygments_lexer": "ipython3",
   "version": "3.7.3"
  },
  "pycharm": {
   "stem_cell": {
    "cell_type": "raw",
    "source": [],
    "metadata": {
     "collapsed": false
    }
   }
  }
 },
 "nbformat": 4,
 "nbformat_minor": 2
}