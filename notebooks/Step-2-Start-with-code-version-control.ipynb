{
 "cells": [
  {
   "cell_type": "markdown",
   "metadata": {},
   "source": [
    "Рекомендательные системмы являются одними из самых популярных приложений DS. Они используются для прогнозирования предпочтений,  которые пользователь поставит какому-нибудь товару в магазине. Amazon использует их, чтобы предлагать продукты клиентам, YouTube решает какое видео воспроизводить следующим, а Facebook рекомендует посты. Существуют также рекомендательные системы для таких доменов, как рестораны, фильмы и онлайн-знакомства. Более того, для некоторых компаний, таких как Netflix, бизнес-модель и ее успех зависят от эффективности их рекомендаций. Netflix даже предложил миллион долларов в 2009 году каждому, кто сможет улучшить его систему рекомендаций на 10%."
   ]
  },
  {
   "cell_type": "markdown",
   "metadata": {},
   "source": [
    "Вообще говоря, рекомендательные системы могут быть поделены на 3 типа:\n",
    "* Базовый подход: предлагайте общие рекомендации каждому пользователю в зависимости от популярности фильма и / или жанра. Например, Кинопоиск 250.\n",
    "* Content-based рекомендательные системы. Эта система использует метаданные элемента, например жанр, режиссер, описание, актеры и т.д. для фильмов. Общая идея, лежащая в основе этих рекомендательных систем, заключается в том, что если человеку нравится конкретный предмет, ему также понравится предмет, похожий на него. Алгоритм будет использовать метаданные прошлых элементов пользователя. Хорошим примером может служить YouTube, где на основе вашей истории он предлагает вам новые видео, которые вы потенциально можете посмотреть.\n",
    "* Коллаборативная фильтрация. Эти системы пытаются предсказать рейтинг, который пользователь поставит элементу, на основе прошлых оценок и предпочтений других пользователей. Коллаборативной фильтрации не требуются метаданные элемента."
   ]
  },
  {
   "cell_type": "markdown",
   "metadata": {},
   "source": [
    "# Простые рекомендации\n",
    "\n",
    "* Сначала нужно определить метрику, по которой будем сортировать фильмы\n",
    "* Затем посчитать метрику для каждого фильма\n",
    "* Отсортировать фильмы, и выбрать топ результатов\n",
    "\n",
    "Для работы будем использовать популярный датасет MovieLens. Датасет можно скачать по [ссылке](https://www.kaggle.com/rounakbanik/the-movies-dataset). "
   ]
  },
  {
   "cell_type": "code",
   "execution_count": 1,
   "metadata": {
    "pycharm": {
     "is_executing": false
    }
   },
   "outputs": [
    {
     "data": {
      "text/plain": "       adult                              belongs_to_collection    budget  \\\n0      False  {'id': 10194, 'name': 'Toy Story Collection', ...  30000000   \n1      False                                                NaN  65000000   \n2      False  {'id': 119050, 'name': 'Grumpy Old Men Collect...         0   \n3      False                                                NaN  16000000   \n4      False  {'id': 96871, 'name': 'Father of the Bride Col...         0   \n...      ...                                                ...       ...   \n45461  False                                                NaN         0   \n45462  False                                                NaN         0   \n45463  False                                                NaN         0   \n45464  False                                                NaN         0   \n45465  False                                                NaN         0   \n\n                                                  genres  \\\n0      [{'id': 16, 'name': 'Animation'}, {'id': 35, '...   \n1      [{'id': 12, 'name': 'Adventure'}, {'id': 14, '...   \n2      [{'id': 10749, 'name': 'Romance'}, {'id': 35, ...   \n3      [{'id': 35, 'name': 'Comedy'}, {'id': 18, 'nam...   \n4                         [{'id': 35, 'name': 'Comedy'}]   \n...                                                  ...   \n45461  [{'id': 18, 'name': 'Drama'}, {'id': 10751, 'n...   \n45462                      [{'id': 18, 'name': 'Drama'}]   \n45463  [{'id': 28, 'name': 'Action'}, {'id': 18, 'nam...   \n45464                                                 []   \n45465                                                 []   \n\n                                   homepage      id    imdb_id  \\\n0      http://toystory.disney.com/toy-story     862  tt0114709   \n1                                       NaN    8844  tt0113497   \n2                                       NaN   15602  tt0113228   \n3                                       NaN   31357  tt0114885   \n4                                       NaN   11862  tt0113041   \n...                                     ...     ...        ...   \n45461  http://www.imdb.com/title/tt6209470/  439050  tt6209470   \n45462                                   NaN  111109  tt2028550   \n45463                                   NaN   67758  tt0303758   \n45464                                   NaN  227506  tt0008536   \n45465                                   NaN  461257  tt6980792   \n\n      original_language               original_title  \\\n0                    en                    Toy Story   \n1                    en                      Jumanji   \n2                    en             Grumpier Old Men   \n3                    en            Waiting to Exhale   \n4                    en  Father of the Bride Part II   \n...                 ...                          ...   \n45461                fa                      رگ خواب   \n45462                tl          Siglo ng Pagluluwal   \n45463                en                     Betrayal   \n45464                en          Satana likuyushchiy   \n45465                en                     Queerama   \n\n                                                overview  ... release_date  \\\n0      Led by Woody, Andy's toys live happily in his ...  ...   1995-10-30   \n1      When siblings Judy and Peter discover an encha...  ...   1995-12-15   \n2      A family wedding reignites the ancient feud be...  ...   1995-12-22   \n3      Cheated on, mistreated and stepped on, the wom...  ...   1995-12-22   \n4      Just when George Banks has recovered from his ...  ...   1995-02-10   \n...                                                  ...  ...          ...   \n45461        Rising and falling between a man and woman.  ...          NaN   \n45462  An artist struggles to finish his work while a...  ...   2011-11-17   \n45463  When one of her hits goes wrong, a professiona...  ...   2003-08-01   \n45464  In a small town live two brothers, one a minis...  ...   1917-10-21   \n45465  50 years after decriminalisation of homosexual...  ...   2017-06-09   \n\n           revenue runtime                                   spoken_languages  \\\n0      373554033.0    81.0           [{'iso_639_1': 'en', 'name': 'English'}]   \n1      262797249.0   104.0  [{'iso_639_1': 'en', 'name': 'English'}, {'iso...   \n2              0.0   101.0           [{'iso_639_1': 'en', 'name': 'English'}]   \n3       81452156.0   127.0           [{'iso_639_1': 'en', 'name': 'English'}]   \n4       76578911.0   106.0           [{'iso_639_1': 'en', 'name': 'English'}]   \n...            ...     ...                                                ...   \n45461          0.0    90.0             [{'iso_639_1': 'fa', 'name': 'فارسی'}]   \n45462          0.0   360.0                  [{'iso_639_1': 'tl', 'name': ''}]   \n45463          0.0    90.0           [{'iso_639_1': 'en', 'name': 'English'}]   \n45464          0.0    87.0                                                 []   \n45465          0.0    75.0           [{'iso_639_1': 'en', 'name': 'English'}]   \n\n         status                                            tagline  \\\n0      Released                                                NaN   \n1      Released          Roll the dice and unleash the excitement!   \n2      Released  Still Yelling. Still Fighting. Still Ready for...   \n3      Released  Friends are the people who let you be yourself...   \n4      Released  Just When His World Is Back To Normal... He's ...   \n...         ...                                                ...   \n45461  Released         Rising and falling between a man and woman   \n45462  Released                                                NaN   \n45463  Released                             A deadly game of wits.   \n45464  Released                                                NaN   \n45465  Released                                                NaN   \n\n                             title  video vote_average vote_count  \n0                        Toy Story  False          7.7     5415.0  \n1                          Jumanji  False          6.9     2413.0  \n2                 Grumpier Old Men  False          6.5       92.0  \n3                Waiting to Exhale  False          6.1       34.0  \n4      Father of the Bride Part II  False          5.7      173.0  \n...                            ...    ...          ...        ...  \n45461                       Subdue  False          4.0        1.0  \n45462          Century of Birthing  False          9.0        3.0  \n45463                     Betrayal  False          3.8        6.0  \n45464             Satan Triumphant  False          0.0        0.0  \n45465                     Queerama  False          0.0        0.0  \n\n[45466 rows x 24 columns]",
      "text/html": "<div>\n<style scoped>\n    .dataframe tbody tr th:only-of-type {\n        vertical-align: middle;\n    }\n\n    .dataframe tbody tr th {\n        vertical-align: top;\n    }\n\n    .dataframe thead th {\n        text-align: right;\n    }\n</style>\n<table border=\"1\" class=\"dataframe\">\n  <thead>\n    <tr style=\"text-align: right;\">\n      <th></th>\n      <th>adult</th>\n      <th>belongs_to_collection</th>\n      <th>budget</th>\n      <th>genres</th>\n      <th>homepage</th>\n      <th>id</th>\n      <th>imdb_id</th>\n      <th>original_language</th>\n      <th>original_title</th>\n      <th>overview</th>\n      <th>...</th>\n      <th>release_date</th>\n      <th>revenue</th>\n      <th>runtime</th>\n      <th>spoken_languages</th>\n      <th>status</th>\n      <th>tagline</th>\n      <th>title</th>\n      <th>video</th>\n      <th>vote_average</th>\n      <th>vote_count</th>\n    </tr>\n  </thead>\n  <tbody>\n    <tr>\n      <th>0</th>\n      <td>False</td>\n      <td>{'id': 10194, 'name': 'Toy Story Collection', ...</td>\n      <td>30000000</td>\n      <td>[{'id': 16, 'name': 'Animation'}, {'id': 35, '...</td>\n      <td>http://toystory.disney.com/toy-story</td>\n      <td>862</td>\n      <td>tt0114709</td>\n      <td>en</td>\n      <td>Toy Story</td>\n      <td>Led by Woody, Andy's toys live happily in his ...</td>\n      <td>...</td>\n      <td>1995-10-30</td>\n      <td>373554033.0</td>\n      <td>81.0</td>\n      <td>[{'iso_639_1': 'en', 'name': 'English'}]</td>\n      <td>Released</td>\n      <td>NaN</td>\n      <td>Toy Story</td>\n      <td>False</td>\n      <td>7.7</td>\n      <td>5415.0</td>\n    </tr>\n    <tr>\n      <th>1</th>\n      <td>False</td>\n      <td>NaN</td>\n      <td>65000000</td>\n      <td>[{'id': 12, 'name': 'Adventure'}, {'id': 14, '...</td>\n      <td>NaN</td>\n      <td>8844</td>\n      <td>tt0113497</td>\n      <td>en</td>\n      <td>Jumanji</td>\n      <td>When siblings Judy and Peter discover an encha...</td>\n      <td>...</td>\n      <td>1995-12-15</td>\n      <td>262797249.0</td>\n      <td>104.0</td>\n      <td>[{'iso_639_1': 'en', 'name': 'English'}, {'iso...</td>\n      <td>Released</td>\n      <td>Roll the dice and unleash the excitement!</td>\n      <td>Jumanji</td>\n      <td>False</td>\n      <td>6.9</td>\n      <td>2413.0</td>\n    </tr>\n    <tr>\n      <th>2</th>\n      <td>False</td>\n      <td>{'id': 119050, 'name': 'Grumpy Old Men Collect...</td>\n      <td>0</td>\n      <td>[{'id': 10749, 'name': 'Romance'}, {'id': 35, ...</td>\n      <td>NaN</td>\n      <td>15602</td>\n      <td>tt0113228</td>\n      <td>en</td>\n      <td>Grumpier Old Men</td>\n      <td>A family wedding reignites the ancient feud be...</td>\n      <td>...</td>\n      <td>1995-12-22</td>\n      <td>0.0</td>\n      <td>101.0</td>\n      <td>[{'iso_639_1': 'en', 'name': 'English'}]</td>\n      <td>Released</td>\n      <td>Still Yelling. Still Fighting. Still Ready for...</td>\n      <td>Grumpier Old Men</td>\n      <td>False</td>\n      <td>6.5</td>\n      <td>92.0</td>\n    </tr>\n    <tr>\n      <th>3</th>\n      <td>False</td>\n      <td>NaN</td>\n      <td>16000000</td>\n      <td>[{'id': 35, 'name': 'Comedy'}, {'id': 18, 'nam...</td>\n      <td>NaN</td>\n      <td>31357</td>\n      <td>tt0114885</td>\n      <td>en</td>\n      <td>Waiting to Exhale</td>\n      <td>Cheated on, mistreated and stepped on, the wom...</td>\n      <td>...</td>\n      <td>1995-12-22</td>\n      <td>81452156.0</td>\n      <td>127.0</td>\n      <td>[{'iso_639_1': 'en', 'name': 'English'}]</td>\n      <td>Released</td>\n      <td>Friends are the people who let you be yourself...</td>\n      <td>Waiting to Exhale</td>\n      <td>False</td>\n      <td>6.1</td>\n      <td>34.0</td>\n    </tr>\n    <tr>\n      <th>4</th>\n      <td>False</td>\n      <td>{'id': 96871, 'name': 'Father of the Bride Col...</td>\n      <td>0</td>\n      <td>[{'id': 35, 'name': 'Comedy'}]</td>\n      <td>NaN</td>\n      <td>11862</td>\n      <td>tt0113041</td>\n      <td>en</td>\n      <td>Father of the Bride Part II</td>\n      <td>Just when George Banks has recovered from his ...</td>\n      <td>...</td>\n      <td>1995-02-10</td>\n      <td>76578911.0</td>\n      <td>106.0</td>\n      <td>[{'iso_639_1': 'en', 'name': 'English'}]</td>\n      <td>Released</td>\n      <td>Just When His World Is Back To Normal... He's ...</td>\n      <td>Father of the Bride Part II</td>\n      <td>False</td>\n      <td>5.7</td>\n      <td>173.0</td>\n    </tr>\n    <tr>\n      <th>...</th>\n      <td>...</td>\n      <td>...</td>\n      <td>...</td>\n      <td>...</td>\n      <td>...</td>\n      <td>...</td>\n      <td>...</td>\n      <td>...</td>\n      <td>...</td>\n      <td>...</td>\n      <td>...</td>\n      <td>...</td>\n      <td>...</td>\n      <td>...</td>\n      <td>...</td>\n      <td>...</td>\n      <td>...</td>\n      <td>...</td>\n      <td>...</td>\n      <td>...</td>\n      <td>...</td>\n    </tr>\n    <tr>\n      <th>45461</th>\n      <td>False</td>\n      <td>NaN</td>\n      <td>0</td>\n      <td>[{'id': 18, 'name': 'Drama'}, {'id': 10751, 'n...</td>\n      <td>http://www.imdb.com/title/tt6209470/</td>\n      <td>439050</td>\n      <td>tt6209470</td>\n      <td>fa</td>\n      <td>رگ خواب</td>\n      <td>Rising and falling between a man and woman.</td>\n      <td>...</td>\n      <td>NaN</td>\n      <td>0.0</td>\n      <td>90.0</td>\n      <td>[{'iso_639_1': 'fa', 'name': 'فارسی'}]</td>\n      <td>Released</td>\n      <td>Rising and falling between a man and woman</td>\n      <td>Subdue</td>\n      <td>False</td>\n      <td>4.0</td>\n      <td>1.0</td>\n    </tr>\n    <tr>\n      <th>45462</th>\n      <td>False</td>\n      <td>NaN</td>\n      <td>0</td>\n      <td>[{'id': 18, 'name': 'Drama'}]</td>\n      <td>NaN</td>\n      <td>111109</td>\n      <td>tt2028550</td>\n      <td>tl</td>\n      <td>Siglo ng Pagluluwal</td>\n      <td>An artist struggles to finish his work while a...</td>\n      <td>...</td>\n      <td>2011-11-17</td>\n      <td>0.0</td>\n      <td>360.0</td>\n      <td>[{'iso_639_1': 'tl', 'name': ''}]</td>\n      <td>Released</td>\n      <td>NaN</td>\n      <td>Century of Birthing</td>\n      <td>False</td>\n      <td>9.0</td>\n      <td>3.0</td>\n    </tr>\n    <tr>\n      <th>45463</th>\n      <td>False</td>\n      <td>NaN</td>\n      <td>0</td>\n      <td>[{'id': 28, 'name': 'Action'}, {'id': 18, 'nam...</td>\n      <td>NaN</td>\n      <td>67758</td>\n      <td>tt0303758</td>\n      <td>en</td>\n      <td>Betrayal</td>\n      <td>When one of her hits goes wrong, a professiona...</td>\n      <td>...</td>\n      <td>2003-08-01</td>\n      <td>0.0</td>\n      <td>90.0</td>\n      <td>[{'iso_639_1': 'en', 'name': 'English'}]</td>\n      <td>Released</td>\n      <td>A deadly game of wits.</td>\n      <td>Betrayal</td>\n      <td>False</td>\n      <td>3.8</td>\n      <td>6.0</td>\n    </tr>\n    <tr>\n      <th>45464</th>\n      <td>False</td>\n      <td>NaN</td>\n      <td>0</td>\n      <td>[]</td>\n      <td>NaN</td>\n      <td>227506</td>\n      <td>tt0008536</td>\n      <td>en</td>\n      <td>Satana likuyushchiy</td>\n      <td>In a small town live two brothers, one a minis...</td>\n      <td>...</td>\n      <td>1917-10-21</td>\n      <td>0.0</td>\n      <td>87.0</td>\n      <td>[]</td>\n      <td>Released</td>\n      <td>NaN</td>\n      <td>Satan Triumphant</td>\n      <td>False</td>\n      <td>0.0</td>\n      <td>0.0</td>\n    </tr>\n    <tr>\n      <th>45465</th>\n      <td>False</td>\n      <td>NaN</td>\n      <td>0</td>\n      <td>[]</td>\n      <td>NaN</td>\n      <td>461257</td>\n      <td>tt6980792</td>\n      <td>en</td>\n      <td>Queerama</td>\n      <td>50 years after decriminalisation of homosexual...</td>\n      <td>...</td>\n      <td>2017-06-09</td>\n      <td>0.0</td>\n      <td>75.0</td>\n      <td>[{'iso_639_1': 'en', 'name': 'English'}]</td>\n      <td>Released</td>\n      <td>NaN</td>\n      <td>Queerama</td>\n      <td>False</td>\n      <td>0.0</td>\n      <td>0.0</td>\n    </tr>\n  </tbody>\n</table>\n<p>45466 rows × 24 columns</p>\n</div>"
     },
     "metadata": {},
     "output_type": "execute_result",
     "execution_count": 1
    }
   ],
   "source": [
    "%load_ext autoreload\n",
    "%autoreload 2\n",
    "\n",
    "from src.data.dataset import get_metadata\n",
    "\n",
    "metadata = get_metadata()\n",
    "\n",
    "metadata"
   ]
  },
  {
   "cell_type": "markdown",
   "metadata": {},
   "source": [
    "Одна из базовых метрик - это рейтинг. Однако он не принимает во внимание популярность фильма. Таким образом, фильм с рейтингом 9 от  10 пользователей будет считаться «лучше», чем фильм с рейтингом 8,9 от 10 000 пользователей. Поэтому стоит использовать взвешенный рейтинг - учитывающий средний рейтинг и количество голосов.\n",
    "\n",
    "<img src=\"weighted.png\">\n",
    "\n",
    "* v - количество голосов за фильм\n",
    "\n",
    "* m - минимальное количество голосов, необходимое для внесения в таблицу\n",
    "\n",
    "* R - средний рейтинг фильма\n",
    "\n",
    "* C - средний голос по всем фильмам\n",
    "\n",
    "m - гиперпараметр. Выберем для него 90 перцентиль - то есть для попадания в таблицу, у фильма должно быть больше голосов, чем у 90 процентов других фильмов."
   ]
  },
  {
   "cell_type": "code",
   "execution_count": 2,
   "metadata": {
    "pycharm": {
     "is_executing": false
    }
   },
   "outputs": [
    {
     "name": "stdout",
     "text": [
      "5.618207215133889\n"
     ],
     "output_type": "stream"
    }
   ],
   "source": [
    "C = metadata['vote_average'].mean()\n",
    "print(C)"
   ]
  },
  {
   "cell_type": "code",
   "execution_count": 3,
   "metadata": {
    "pycharm": {
     "is_executing": false
    }
   },
   "outputs": [
    {
     "name": "stdout",
     "text": [
      "160.0\n"
     ],
     "output_type": "stream"
    }
   ],
   "source": [
    "m = metadata['vote_count'].quantile(0.90)\n",
    "print(m)"
   ]
  },
  {
   "cell_type": "code",
   "execution_count": 4,
   "metadata": {
    "pycharm": {
     "is_executing": false
    }
   },
   "outputs": [
    {
     "data": {
      "text/plain": "(4555, 24)"
     },
     "metadata": {},
     "output_type": "execute_result",
     "execution_count": 4
    }
   ],
   "source": [
    "q_movies = metadata.copy().loc[metadata['vote_count'] >= m]\n",
    "q_movies.shape"
   ]
  },
  {
   "cell_type": "code",
   "execution_count": 5,
   "metadata": {
    "pycharm": {
     "is_executing": false
    }
   },
   "outputs": [
    {
     "data": {
      "text/plain": "Index(['adult', 'belongs_to_collection', 'budget', 'genres', 'homepage', 'id',\n       'imdb_id', 'original_language', 'original_title', 'overview',\n       'popularity', 'poster_path', 'production_companies',\n       'production_countries', 'release_date', 'revenue', 'runtime',\n       'spoken_languages', 'status', 'tagline', 'title', 'video',\n       'vote_average', 'vote_count'],\n      dtype='object')"
     },
     "metadata": {},
     "output_type": "execute_result",
     "execution_count": 5
    }
   ],
   "source": [
    "metadata.columns\n"
   ]
  },
  {
   "cell_type": "code",
   "execution_count": 6,
   "metadata": {
    "pycharm": {
     "is_executing": false
    }
   },
   "outputs": [],
   "source": [
    "from src.features.build_features import calc_weighted_rating\n"
   ]
  },
  {
   "cell_type": "code",
   "execution_count": 7,
   "metadata": {
    "pycharm": {
     "is_executing": false
    }
   },
   "outputs": [],
   "source": [
    "q_movies['score'] = q_movies.apply(lambda x: calc_weighted_rating(x, m, C), axis=1)"
   ]
  },
  {
   "cell_type": "code",
   "execution_count": 8,
   "metadata": {
    "pycharm": {
     "is_executing": false
    }
   },
   "outputs": [],
   "source": [
    "q_movies = q_movies.sort_values('score', ascending=False)"
   ]
  },
  {
   "cell_type": "code",
   "execution_count": 9,
   "metadata": {
    "pycharm": {
     "is_executing": false
    }
   },
   "outputs": [
    {
     "data": {
      "text/plain": "                             title  vote_count  vote_average     score\n314       The Shawshank Redemption      8358.0           8.5  8.445869\n834                  The Godfather      6024.0           8.5  8.425439\n10309  Dilwale Dulhania Le Jayenge       661.0           9.1  8.421453\n12481              The Dark Knight     12269.0           8.3  8.265477\n2843                    Fight Club      9678.0           8.3  8.256385\n292                   Pulp Fiction      8670.0           8.3  8.251406\n522               Schindler's List      4436.0           8.3  8.206639\n23673                     Whiplash      4376.0           8.3  8.205404\n5481                 Spirited Away      3968.0           8.3  8.196055\n2211             Life Is Beautiful      3643.0           8.3  8.187171",
      "text/html": "<div>\n<style scoped>\n    .dataframe tbody tr th:only-of-type {\n        vertical-align: middle;\n    }\n\n    .dataframe tbody tr th {\n        vertical-align: top;\n    }\n\n    .dataframe thead th {\n        text-align: right;\n    }\n</style>\n<table border=\"1\" class=\"dataframe\">\n  <thead>\n    <tr style=\"text-align: right;\">\n      <th></th>\n      <th>title</th>\n      <th>vote_count</th>\n      <th>vote_average</th>\n      <th>score</th>\n    </tr>\n  </thead>\n  <tbody>\n    <tr>\n      <th>314</th>\n      <td>The Shawshank Redemption</td>\n      <td>8358.0</td>\n      <td>8.5</td>\n      <td>8.445869</td>\n    </tr>\n    <tr>\n      <th>834</th>\n      <td>The Godfather</td>\n      <td>6024.0</td>\n      <td>8.5</td>\n      <td>8.425439</td>\n    </tr>\n    <tr>\n      <th>10309</th>\n      <td>Dilwale Dulhania Le Jayenge</td>\n      <td>661.0</td>\n      <td>9.1</td>\n      <td>8.421453</td>\n    </tr>\n    <tr>\n      <th>12481</th>\n      <td>The Dark Knight</td>\n      <td>12269.0</td>\n      <td>8.3</td>\n      <td>8.265477</td>\n    </tr>\n    <tr>\n      <th>2843</th>\n      <td>Fight Club</td>\n      <td>9678.0</td>\n      <td>8.3</td>\n      <td>8.256385</td>\n    </tr>\n    <tr>\n      <th>292</th>\n      <td>Pulp Fiction</td>\n      <td>8670.0</td>\n      <td>8.3</td>\n      <td>8.251406</td>\n    </tr>\n    <tr>\n      <th>522</th>\n      <td>Schindler's List</td>\n      <td>4436.0</td>\n      <td>8.3</td>\n      <td>8.206639</td>\n    </tr>\n    <tr>\n      <th>23673</th>\n      <td>Whiplash</td>\n      <td>4376.0</td>\n      <td>8.3</td>\n      <td>8.205404</td>\n    </tr>\n    <tr>\n      <th>5481</th>\n      <td>Spirited Away</td>\n      <td>3968.0</td>\n      <td>8.3</td>\n      <td>8.196055</td>\n    </tr>\n    <tr>\n      <th>2211</th>\n      <td>Life Is Beautiful</td>\n      <td>3643.0</td>\n      <td>8.3</td>\n      <td>8.187171</td>\n    </tr>\n  </tbody>\n</table>\n</div>"
     },
     "metadata": {},
     "output_type": "execute_result",
     "execution_count": 9
    }
   ],
   "source": [
    "q_movies[['title', 'vote_count', 'vote_average', 'score']].head(10)"
   ]
  },
  {
   "cell_type": "markdown",
   "metadata": {},
   "source": [
    "Ну вот, мы построили простую рейтинговую таблицу на основании взвешенного рейтинга фильмов. Смахивает на кинопоиск, правда?"
   ]
  },
  {
   "cell_type": "markdown",
   "metadata": {},
   "source": [
    "# Content-based рекомендации\n",
    "\n",
    "Идея content-based подхода заключается в том, чтобы по истории действий пользователя создать для него вектор его предпочтений в пространстве предметов и рекомендовать товары, близкие к этому вектору.\n",
    "\n",
    "Попробуем рекомендовать фильмы, похожие на конкретный фильм. Для этого вычислим попарные косинусные расстояния для всех фильмов на основе их сюжетных описаний и порекомендуем фильмы на основе этой метрики."
   ]
  },
  {
   "cell_type": "markdown",
   "metadata": {},
   "source": [
    "<img src=\"content.png\">"
   ]
  },
  {
   "cell_type": "code",
   "execution_count": 10,
   "metadata": {
    "pycharm": {
     "is_executing": false
    }
   },
   "outputs": [
    {
     "data": {
      "text/plain": "0    Led by Woody, Andy's toys live happily in his ...\n1    When siblings Judy and Peter discover an encha...\n2    A family wedding reignites the ancient feud be...\n3    Cheated on, mistreated and stepped on, the wom...\n4    Just when George Banks has recovered from his ...\nName: overview, dtype: object"
     },
     "metadata": {},
     "output_type": "execute_result",
     "execution_count": 10
    }
   ],
   "source": [
    "metadata['overview'].head()"
   ]
  },
  {
   "cell_type": "markdown",
   "metadata": {},
   "source": [
    "Невозможно вычислить сходство между любыми двумя обзорами в их необработанном виде, поэтому вычислим векторы слов. Как следует из названия, векторы слов - это векторизованное представление слов в документе. Векторы несут семантическое значение. Например, мужчина и король будут иметь векторные представления близко друг к другу, в то время как мужчина и женщина будут иметь представления далеко друг от друга.\n",
    "\n",
    "Мы вычислим Term Frequency-Inverse Document Frequency (TF-IDF) для каждого документа. Это даст нам матрицу, в которой каждый столбец представляет слово в обзорном словаре (все слова, которые встречаются хотя бы в одном документе), а каждый столбец представляет фильм.\n",
    "\n",
    "По сути, оценка TF-IDF - это частота встречаемости слова в документе, взвешенная с уменьшением числа документов, в которых оно встречается. Это сделано для уменьшения важности слов, которые часто встречаются в обзорах сюжетов, и, следовательно, их значимости при вычислении окончательной оценки сходства.\n",
    "\n",
    "TfIdfVectorizer уже реализован в библиотеке scikit. Таким образом, нам нужно проделать следующие шаги:\n",
    "\n",
    "* импортировать Tfidf из scikit-learn\n",
    "* убрать стоп-слова, так как они не несут полезной информации\n",
    "* Замените пропущенные значения пустой строкой\n",
    "* построить матрицу TF-IDF\n"
   ]
  },
  {
   "cell_type": "code",
   "execution_count": 11,
   "metadata": {
    "pycharm": {
     "is_executing": false
    }
   },
   "outputs": [
    {
     "data": {
      "text/plain": "(45466, 40000)"
     },
     "metadata": {},
     "output_type": "execute_result",
     "execution_count": 11
    }
   ],
   "source": [
    "metadata['overview'] = metadata['overview'].fillna('')\n",
    "\n",
    "from src.features.build_features import tfidf_transform\n",
    "tfidf_matrix = tfidf_transform(metadata)\n",
    "\n",
    "tfidf_matrix.shape"
   ]
  },
  {
   "cell_type": "markdown",
   "metadata": {},
   "source": [
    "С помощью этой матрицы мы можем вычислить оценку сходства между двумя фильмами. Мы будем использовать cosine similarity.\n",
    "\n",
    "<img src=\"cos.png\">"
   ]
  },
  {
   "cell_type": "markdown",
   "metadata": {},
   "source": [
    "Поскольку мы использовали TF-IDF, вычисление скалярного произведения между каждым вектором напрямую даст вам оценку косинусного сходства. Следовательно, можно использовать linear_kernel() sklearn вместо cosine_similarities(), поскольку он быстрее. Мы получим матрицу размера 45466x45466, где каждый фильм будет вектором-столбцом 1x45466."
   ]
  },
  {
   "cell_type": "code",
   "execution_count": 13,
   "metadata": {
    "pycharm": {
     "is_executing": false
    }
   },
   "outputs": [],
   "source": [
    "from sklearn.metrics.pairwise import linear_kernel\n",
    "\n",
    "cosine_sim = linear_kernel(tfidf_matrix, tfidf_matrix)"
   ]
  },
  {
   "cell_type": "code",
   "execution_count": 14,
   "metadata": {
    "scrolled": false,
    "pycharm": {
     "is_executing": false
    }
   },
   "outputs": [
    {
     "data": {
      "text/plain": "(45466, 45466)"
     },
     "metadata": {},
     "output_type": "execute_result",
     "execution_count": 14
    }
   ],
   "source": [
    "cosine_sim.shape"
   ]
  },
  {
   "cell_type": "code",
   "execution_count": 15,
   "metadata": {
    "pycharm": {
     "is_executing": false
    }
   },
   "outputs": [
    {
     "data": {
      "text/plain": "array([0.01504121, 1.0000001 , 0.04681953, ..., 0.        , 0.02230244,\n       0.00982309], dtype=float32)"
     },
     "metadata": {},
     "output_type": "execute_result",
     "execution_count": 15
    }
   ],
   "source": [
    "cosine_sim[1]"
   ]
  },
  {
   "cell_type": "markdown",
   "metadata": {},
   "source": [
    "Нужно определить функцию, которая принимает на вход название фильма и выводит список из 10 наиболее похожих фильмов. Нужен механизм для определения индекса фильма в metadata по его названию."
   ]
  },
  {
   "cell_type": "code",
   "execution_count": 16,
   "metadata": {
    "pycharm": {
     "is_executing": false
    }
   },
   "outputs": [],
   "source": [
    "import pandas as pd\n",
    "indices = pd.Series(metadata.index, index=metadata['title']).drop_duplicates()"
   ]
  },
  {
   "cell_type": "code",
   "execution_count": 19,
   "metadata": {
    "pycharm": {
     "is_executing": false
    }
   },
   "outputs": [
    {
     "data": {
      "text/plain": "title\nToy Story                      0\nJumanji                        1\nGrumpier Old Men               2\nWaiting to Exhale              3\nFather of the Bride Part II    4\nHeat                           5\nSabrina                        6\nTom and Huck                   7\nSudden Death                   8\nGoldenEye                      9\ndtype: int64"
     },
     "metadata": {},
     "output_type": "execute_result",
     "execution_count": 19
    }
   ],
   "source": [
    "indices[:10]"
   ]
  },
  {
   "cell_type": "markdown",
   "metadata": {},
   "source": [
    "Функция должна выполнять следующие действия:\n",
    "\n",
    "* Получить индекс фильма по его названию.\n",
    "\n",
    "* Получить список оценок косинусного сходства для этого конкретного фильма со всеми фильмами. Преобразуйте его в список кортежей, где первый элемент - это его позиция, а второй - оценка сходства.\n",
    "\n",
    "* Отсортируйте вышеупомянутый список кортежей на основе оценок сходства (второй элемент).\n",
    "\n",
    "* Получите 10 лучших элементов этого списка. Игнорируйте первый элемент, так как он относится к себе (фильм, наиболее похожий на себя - это он сам).\n",
    "\n",
    "* Верните заголовки, соответствующие индексам верхних элементов."
   ]
  },
  {
   "cell_type": "code",
   "execution_count": 33,
   "metadata": {
    "pycharm": {
     "is_executing": false
    }
   },
   "outputs": [],
   "source": []
  },
  {
   "cell_type": "code",
   "execution_count": 20,
   "metadata": {
    "pycharm": {
     "is_executing": false
    }
   },
   "outputs": [
    {
     "data": {
      "text/plain": "12481                                      The Dark Knight\n150                                         Batman Forever\n1328                                        Batman Returns\n585                                                 Batman\n15511                           Batman: Under the Red Hood\n21194    Batman Unmasked: The Psychology of the Dark Kn...\n9230                    Batman Beyond: Return of the Joker\n19792              Batman: The Dark Knight Returns, Part 1\n18035                                     Batman: Year One\n3095                          Batman: Mask of the Phantasm\nName: title, dtype: object"
     },
     "metadata": {},
     "output_type": "execute_result",
     "execution_count": 20
    }
   ],
   "source": [
    "from src.models.simple_model import get_recommendations\n",
    "get_recommendations('The Dark Knight Rises', metadata, indices, cosine_sim)"
   ]
  },
  {
   "cell_type": "markdown",
   "metadata": {},
   "source": [
    "# Коллаборативная фильтрация"
   ]
  },
  {
   "cell_type": "markdown",
   "metadata": {},
   "source": [
    "<img src=\"collaborative.png\">"
   ]
  },
  {
   "cell_type": "markdown",
   "metadata": {},
   "source": [
    "Помимо метаданных фильмов, у нас есть еще один ценный источник информации: данные о рейтингах пользователей. Наша система рекомендаций может порекомендовать фильм, похожий на «Начало (2010)», на основе оценок пользователей. Другими словами, какие еще фильмы получили аналогичные оценки других пользователей? Это был бы пример коллаборативной фильтрации item-item. Таким примером является рекомендация по типу «Пользователям, которым понравился этот элемент, понравились и другие». Мы будем исследовать набор данных ratings.csv, и сформируем векторы оценок пользователей."
   ]
  },
  {
   "cell_type": "markdown",
   "metadata": {},
   "source": [
    "В файле links.csv лежит маппинг разных id фильмов. В частности в ratings.csv (который мы будем использовать) используется movieId. В уже знакомом нам metadata используется tmdbId. Чтобы использовать обе таблички, добавим в metadata колонку с movieId - которая по сути является маппингом на колонку metadata['id'] с помощью links."
   ]
  },
  {
   "cell_type": "code",
   "execution_count": 22,
   "metadata": {
    "pycharm": {
     "is_executing": false
    }
   },
   "outputs": [
    {
     "name": "stderr",
     "text": [
      "C:\\Users\\lucky_man\\Anaconda3\\lib\\site-packages\\ipykernel_launcher.py:15: SettingWithCopyWarning: \nA value is trying to be set on a copy of a slice from a DataFrame.\nTry using .loc[row_indexer,col_indexer] = value instead\n\nSee the caveats in the documentation: https://pandas.pydata.org/pandas-docs/stable/user_guide/indexing.html#returning-a-view-versus-a-copy\n  from ipykernel import kernelapp as app\n"
     ],
     "output_type": "stream"
    }
   ],
   "source": [
    "from src.data.dataset import get_links\n",
    "\n",
    "links = get_links()\n",
    "\n",
    "links = links.dropna()\n",
    "\n",
    "links = links.drop_duplicates(subset=[\"tmdbId\"],keep='first')\n",
    "\n",
    "id_to_movieId = dict(links[['tmdbId','movieId']].values)\n",
    "\n",
    "metadata['id'] = pd.to_numeric(metadata['id'], errors='coerce')\n",
    "\n",
    "metadata = metadata.dropna(subset=['id'])\n",
    "\n",
    "metadata['movieId'] = metadata['id'].map(id_to_movieId).astype(int)"
   ]
  },
  {
   "cell_type": "code",
   "execution_count": 23,
   "metadata": {
    "pycharm": {
     "is_executing": false
    }
   },
   "outputs": [],
   "source": [
    "#Создадим словарь отображения названия фильма в его movieId\n",
    "title_to_id = dict(zip(metadata.title.tolist(), metadata.movieId.tolist()))"
   ]
  },
  {
   "cell_type": "markdown",
   "metadata": {},
   "source": [
    "В вашем распоряжении есть два файла - ratings.csv и ratings_small.csv. Второй файлик содержит намного меньше информации, но для быстрой работы давайте использовать его (хотя качество, конечно же, получится хуже). При желании вы можете обучить модель на полном файле рейтингов (ratings.csv)."
   ]
  },
  {
   "cell_type": "code",
   "execution_count": 24,
   "metadata": {
    "pycharm": {
     "is_executing": false
    }
   },
   "outputs": [],
   "source": [
    "from src.data.dataset import get_ratings\n",
    "\n",
    "ratings = get_ratings()"
   ]
  },
  {
   "cell_type": "code",
   "execution_count": 25,
   "metadata": {
    "pycharm": {
     "is_executing": false
    }
   },
   "outputs": [
    {
     "data": {
      "text/plain": "        userId  movieId  rating   timestamp\n0            1       31     2.5  1260759144\n1            1     1029     3.0  1260759179\n2            1     1061     3.0  1260759182\n3            1     1129     2.0  1260759185\n4            1     1172     4.0  1260759205\n...        ...      ...     ...         ...\n99999      671     6268     2.5  1065579370\n100000     671     6269     4.0  1065149201\n100001     671     6365     4.0  1070940363\n100002     671     6385     2.5  1070979663\n100003     671     6565     3.5  1074784724\n\n[100004 rows x 4 columns]",
      "text/html": "<div>\n<style scoped>\n    .dataframe tbody tr th:only-of-type {\n        vertical-align: middle;\n    }\n\n    .dataframe tbody tr th {\n        vertical-align: top;\n    }\n\n    .dataframe thead th {\n        text-align: right;\n    }\n</style>\n<table border=\"1\" class=\"dataframe\">\n  <thead>\n    <tr style=\"text-align: right;\">\n      <th></th>\n      <th>userId</th>\n      <th>movieId</th>\n      <th>rating</th>\n      <th>timestamp</th>\n    </tr>\n  </thead>\n  <tbody>\n    <tr>\n      <th>0</th>\n      <td>1</td>\n      <td>31</td>\n      <td>2.5</td>\n      <td>1260759144</td>\n    </tr>\n    <tr>\n      <th>1</th>\n      <td>1</td>\n      <td>1029</td>\n      <td>3.0</td>\n      <td>1260759179</td>\n    </tr>\n    <tr>\n      <th>2</th>\n      <td>1</td>\n      <td>1061</td>\n      <td>3.0</td>\n      <td>1260759182</td>\n    </tr>\n    <tr>\n      <th>3</th>\n      <td>1</td>\n      <td>1129</td>\n      <td>2.0</td>\n      <td>1260759185</td>\n    </tr>\n    <tr>\n      <th>4</th>\n      <td>1</td>\n      <td>1172</td>\n      <td>4.0</td>\n      <td>1260759205</td>\n    </tr>\n    <tr>\n      <th>...</th>\n      <td>...</td>\n      <td>...</td>\n      <td>...</td>\n      <td>...</td>\n    </tr>\n    <tr>\n      <th>99999</th>\n      <td>671</td>\n      <td>6268</td>\n      <td>2.5</td>\n      <td>1065579370</td>\n    </tr>\n    <tr>\n      <th>100000</th>\n      <td>671</td>\n      <td>6269</td>\n      <td>4.0</td>\n      <td>1065149201</td>\n    </tr>\n    <tr>\n      <th>100001</th>\n      <td>671</td>\n      <td>6365</td>\n      <td>4.0</td>\n      <td>1070940363</td>\n    </tr>\n    <tr>\n      <th>100002</th>\n      <td>671</td>\n      <td>6385</td>\n      <td>2.5</td>\n      <td>1070979663</td>\n    </tr>\n    <tr>\n      <th>100003</th>\n      <td>671</td>\n      <td>6565</td>\n      <td>3.5</td>\n      <td>1074784724</td>\n    </tr>\n  </tbody>\n</table>\n<p>100004 rows × 4 columns</p>\n</div>"
     },
     "metadata": {},
     "output_type": "execute_result",
     "execution_count": 25
    }
   ],
   "source": [
    "ratings"
   ]
  },
  {
   "cell_type": "code",
   "execution_count": 26,
   "metadata": {
    "pycharm": {
     "is_executing": false
    }
   },
   "outputs": [],
   "source": [
    "correct_users = ratings.userId.unique()[ratings.groupby('userId')['rating'].count() >= 50]\n",
    "ratings_f = ratings[ratings.userId.isin(correct_users)]  #Отфильтруйте таблицу - оставьте только те userId, которые проставили не менее 50 оценок\n",
    "\n",
    "ratings_pivot = pd.pivot_table(ratings_f, index=['movieId'], columns=['userId'], values='rating') #Создайте pivot таблицу из отфильтрованной ratings_f. Индексы - фильмы, колонки - пользователи, значения - рейтинг"
   ]
  },
  {
   "cell_type": "code",
   "execution_count": 27,
   "metadata": {
    "scrolled": true,
    "pycharm": {
     "is_executing": false
    }
   },
   "outputs": [
    {
     "data": {
      "text/plain": "userId   2    3    4    5    7    8    12   13   15   17   ...  655  656  658  \\\nmovieId                                                    ...                  \n1        NaN  NaN  NaN  NaN  3.0  NaN  NaN  5.0  2.0  NaN  ...  NaN  NaN  NaN   \n2        NaN  NaN  NaN  NaN  NaN  NaN  NaN  NaN  2.0  NaN  ...  4.0  NaN  NaN   \n3        NaN  NaN  NaN  4.0  NaN  NaN  NaN  NaN  NaN  NaN  ...  NaN  NaN  NaN   \n4        NaN  NaN  NaN  NaN  NaN  NaN  NaN  NaN  NaN  NaN  ...  NaN  NaN  NaN   \n5        NaN  NaN  NaN  NaN  NaN  NaN  NaN  NaN  4.5  NaN  ...  NaN  NaN  NaN   \n\nuserId   659  660  662  664  665  667  671  \nmovieId                                     \n1        NaN  2.5  NaN  3.5  NaN  NaN  5.0  \n2        NaN  NaN  5.0  NaN  3.0  NaN  NaN  \n3        NaN  NaN  NaN  NaN  3.0  NaN  NaN  \n4        NaN  NaN  NaN  NaN  NaN  NaN  NaN  \n5        NaN  NaN  NaN  NaN  3.0  NaN  NaN  \n\n[5 rows x 427 columns]",
      "text/html": "<div>\n<style scoped>\n    .dataframe tbody tr th:only-of-type {\n        vertical-align: middle;\n    }\n\n    .dataframe tbody tr th {\n        vertical-align: top;\n    }\n\n    .dataframe thead th {\n        text-align: right;\n    }\n</style>\n<table border=\"1\" class=\"dataframe\">\n  <thead>\n    <tr style=\"text-align: right;\">\n      <th>userId</th>\n      <th>2</th>\n      <th>3</th>\n      <th>4</th>\n      <th>5</th>\n      <th>7</th>\n      <th>8</th>\n      <th>12</th>\n      <th>13</th>\n      <th>15</th>\n      <th>17</th>\n      <th>...</th>\n      <th>655</th>\n      <th>656</th>\n      <th>658</th>\n      <th>659</th>\n      <th>660</th>\n      <th>662</th>\n      <th>664</th>\n      <th>665</th>\n      <th>667</th>\n      <th>671</th>\n    </tr>\n    <tr>\n      <th>movieId</th>\n      <th></th>\n      <th></th>\n      <th></th>\n      <th></th>\n      <th></th>\n      <th></th>\n      <th></th>\n      <th></th>\n      <th></th>\n      <th></th>\n      <th></th>\n      <th></th>\n      <th></th>\n      <th></th>\n      <th></th>\n      <th></th>\n      <th></th>\n      <th></th>\n      <th></th>\n      <th></th>\n      <th></th>\n    </tr>\n  </thead>\n  <tbody>\n    <tr>\n      <th>1</th>\n      <td>NaN</td>\n      <td>NaN</td>\n      <td>NaN</td>\n      <td>NaN</td>\n      <td>3.0</td>\n      <td>NaN</td>\n      <td>NaN</td>\n      <td>5.0</td>\n      <td>2.0</td>\n      <td>NaN</td>\n      <td>...</td>\n      <td>NaN</td>\n      <td>NaN</td>\n      <td>NaN</td>\n      <td>NaN</td>\n      <td>2.5</td>\n      <td>NaN</td>\n      <td>3.5</td>\n      <td>NaN</td>\n      <td>NaN</td>\n      <td>5.0</td>\n    </tr>\n    <tr>\n      <th>2</th>\n      <td>NaN</td>\n      <td>NaN</td>\n      <td>NaN</td>\n      <td>NaN</td>\n      <td>NaN</td>\n      <td>NaN</td>\n      <td>NaN</td>\n      <td>NaN</td>\n      <td>2.0</td>\n      <td>NaN</td>\n      <td>...</td>\n      <td>4.0</td>\n      <td>NaN</td>\n      <td>NaN</td>\n      <td>NaN</td>\n      <td>NaN</td>\n      <td>5.0</td>\n      <td>NaN</td>\n      <td>3.0</td>\n      <td>NaN</td>\n      <td>NaN</td>\n    </tr>\n    <tr>\n      <th>3</th>\n      <td>NaN</td>\n      <td>NaN</td>\n      <td>NaN</td>\n      <td>4.0</td>\n      <td>NaN</td>\n      <td>NaN</td>\n      <td>NaN</td>\n      <td>NaN</td>\n      <td>NaN</td>\n      <td>NaN</td>\n      <td>...</td>\n      <td>NaN</td>\n      <td>NaN</td>\n      <td>NaN</td>\n      <td>NaN</td>\n      <td>NaN</td>\n      <td>NaN</td>\n      <td>NaN</td>\n      <td>3.0</td>\n      <td>NaN</td>\n      <td>NaN</td>\n    </tr>\n    <tr>\n      <th>4</th>\n      <td>NaN</td>\n      <td>NaN</td>\n      <td>NaN</td>\n      <td>NaN</td>\n      <td>NaN</td>\n      <td>NaN</td>\n      <td>NaN</td>\n      <td>NaN</td>\n      <td>NaN</td>\n      <td>NaN</td>\n      <td>...</td>\n      <td>NaN</td>\n      <td>NaN</td>\n      <td>NaN</td>\n      <td>NaN</td>\n      <td>NaN</td>\n      <td>NaN</td>\n      <td>NaN</td>\n      <td>NaN</td>\n      <td>NaN</td>\n      <td>NaN</td>\n    </tr>\n    <tr>\n      <th>5</th>\n      <td>NaN</td>\n      <td>NaN</td>\n      <td>NaN</td>\n      <td>NaN</td>\n      <td>NaN</td>\n      <td>NaN</td>\n      <td>NaN</td>\n      <td>NaN</td>\n      <td>4.5</td>\n      <td>NaN</td>\n      <td>...</td>\n      <td>NaN</td>\n      <td>NaN</td>\n      <td>NaN</td>\n      <td>NaN</td>\n      <td>NaN</td>\n      <td>NaN</td>\n      <td>NaN</td>\n      <td>3.0</td>\n      <td>NaN</td>\n      <td>NaN</td>\n    </tr>\n  </tbody>\n</table>\n<p>5 rows × 427 columns</p>\n</div>"
     },
     "metadata": {},
     "output_type": "execute_result",
     "execution_count": 27
    }
   ],
   "source": [
    "ratings_pivot.head()"
   ]
  },
  {
   "cell_type": "markdown",
   "metadata": {},
   "source": [
    "##### Matrix Factorization.\n",
    "\n",
    "Что ж, теперь в нашем распоряжении есть матрица оценок пользователь-айтем. Из математики мы знаем, что любую матрицу можно разложить на произведение трех матриц - например алгоритмом SVD. Но матрицы оценок очень разрежены, 99 % — обычное дело. А SVD не знает, что такое пропуски. Заполнять их средним значением не очень хочется. И в целом, нас не очень интересует матрица сингулярных значений — мы просто хотим получить скрытое представление пользователей и предметов, которое при перемножении будет приближать истинный рейтинг. Можно сразу раскладывать на две матрицы."
   ]
  },
  {
   "cell_type": "markdown",
   "metadata": {},
   "source": [
    "<img src=\"svd.png\">"
   ]
  },
  {
   "cell_type": "markdown",
   "metadata": {},
   "source": [
    "Что же делать с пропусками? Забить на них. Оказалось, что можно успешно обучать приближать рейтинги по метрике RMSE с помощью SGD или ALS, вообще игнорируя пропуски. Первый такой алгоритм — Funk SVD, который придумали в 2006 году в ходе решения соревнования от Netflix.\n",
    "\n",
    "Но например в задаче рекомендации товаров, мы имеем уже не матрицу оценок, а матрицу некоторых событий. Она будет состоять в основном из нулей и единичек, иногда каких то чисел побольше. Таким образом, у  нас будут присутствовать только положительные примеры. У нас нет примеров товаров, которые человек никогда не купит - получается мы не можем понять, человек не видел товар или он ему не нравится. Таким образом фидбэк от пользователя может быть двух типов:\n",
    "\n",
    "* Explicit feedback - есть положительные и отрицательные примеры.\n",
    "* Implicit feedback - есть только положительные.\n",
    "\n",
    "Так вот, забить на пропуски получается только в случае задачи explicit feedback. В случае implicit можно заполнить пропущенные значения например нулем, и настроить веса в оптимизируемом функционале - низкие для нулей, и повыше для ненулевых ячеек."
   ]
  },
  {
   "cell_type": "markdown",
   "metadata": {},
   "source": [
    "Для того чтобы лучше разобраться в математике, можно прочитать например вот [этот пост](https://habr.com/ru/company/yandex/blog/241455/)."
   ]
  },
  {
   "cell_type": "markdown",
   "metadata": {},
   "source": [
    "<img src=\"netflix.png\">"
   ]
  },
  {
   "cell_type": "markdown",
   "metadata": {},
   "source": [
    "Алгоритм SVD реализован в библиотеке [Surprise](https://github.com/NicolasHug/Surprise). Далее мы обучим модель и используем ее для прогнозирования рейтингов фильмов, которые данный пользователь, например с 𝑖𝑑 = 2, еще не получил оценку."
   ]
  },
  {
   "cell_type": "code",
   "execution_count": 28,
   "metadata": {
    "pycharm": {
     "is_executing": false
    }
   },
   "outputs": [],
   "source": [
    "#!pip install scikit-surprise"
   ]
  },
  {
   "cell_type": "code",
   "execution_count": 36,
   "metadata": {
    "pycharm": {
     "is_executing": false
    }
   },
   "outputs": [
    {
     "name": "stdout",
     "text": [
      "RMSE: 0.9001\n0.9001454029024527\nWall time: 7.56 s\n"
     ],
     "output_type": "stream"
    }
   ],
   "source": [
    "%%time\n",
    "from surprise import Dataset, Reader, SVD, accuracy\n",
    "from surprise.model_selection import train_test_split\n",
    "\n",
    "reader = Reader(rating_scale=(1, 5))\n",
    "data = Dataset.load_from_df(ratings_f[['userId','movieId','rating']], reader)\n",
    "\n",
    "trainset, testset = train_test_split(data, test_size=.25, random_state=42)\n",
    "\n",
    "from src.models.svd import train_svd\n",
    "algorithm = train_svd(trainset)\n",
    "\n",
    "from src.evaluate.evaluate import evaluate_svd\n",
    "print(evaluate_svd(algorithm, testset))"
   ]
  },
  {
   "cell_type": "markdown",
   "metadata": {},
   "source": [
    "Напишем нашу функцию, которая принимает на вход id пользователя, а на выходе предлагает ему топ 10 фильмов, которые он еще не видел."
   ]
  },
  {
   "cell_type": "code",
   "execution_count": 37,
   "metadata": {
    "pycharm": {
     "is_executing": false
    }
   },
   "outputs": [],
   "source": [
    "from src.models.svd import recommend_svd\n",
    "user_id = 2\n",
    "predicted_ratings = recommend_svd(algorithm, user_id, ratings_f, title_to_id)"
   ]
  },
  {
   "cell_type": "code",
   "execution_count": 38,
   "metadata": {
    "pycharm": {
     "is_executing": false
    }
   },
   "outputs": [
    {
     "data": {
      "text/plain": "                         ratings\nmovies                          \nThe Godfather           4.570011\nOn the Waterfront       4.512116\nChinatown               4.498240\nModern Times            4.477477\nThe Godfather: Part II  4.472773\nFargo                   4.463801\nCinema Paradiso         4.423796\nIt Happened One Night   4.420678\nThe African Queen       4.396103\nGood Will Hunting       4.391499",
      "text/html": "<div>\n<style scoped>\n    .dataframe tbody tr th:only-of-type {\n        vertical-align: middle;\n    }\n\n    .dataframe tbody tr th {\n        vertical-align: top;\n    }\n\n    .dataframe thead th {\n        text-align: right;\n    }\n</style>\n<table border=\"1\" class=\"dataframe\">\n  <thead>\n    <tr style=\"text-align: right;\">\n      <th></th>\n      <th>ratings</th>\n    </tr>\n    <tr>\n      <th>movies</th>\n      <th></th>\n    </tr>\n  </thead>\n  <tbody>\n    <tr>\n      <th>The Godfather</th>\n      <td>4.570011</td>\n    </tr>\n    <tr>\n      <th>On the Waterfront</th>\n      <td>4.512116</td>\n    </tr>\n    <tr>\n      <th>Chinatown</th>\n      <td>4.498240</td>\n    </tr>\n    <tr>\n      <th>Modern Times</th>\n      <td>4.477477</td>\n    </tr>\n    <tr>\n      <th>The Godfather: Part II</th>\n      <td>4.472773</td>\n    </tr>\n    <tr>\n      <th>Fargo</th>\n      <td>4.463801</td>\n    </tr>\n    <tr>\n      <th>Cinema Paradiso</th>\n      <td>4.423796</td>\n    </tr>\n    <tr>\n      <th>It Happened One Night</th>\n      <td>4.420678</td>\n    </tr>\n    <tr>\n      <th>The African Queen</th>\n      <td>4.396103</td>\n    </tr>\n    <tr>\n      <th>Good Will Hunting</th>\n      <td>4.391499</td>\n    </tr>\n  </tbody>\n</table>\n</div>"
     },
     "metadata": {},
     "output_type": "execute_result",
     "execution_count": 38
    }
   ],
   "source": [
    "predicted_ratings"
   ]
  }
 ],
 "metadata": {
  "kernelspec": {
   "name": "pycharm-b455d236",
   "language": "python",
   "display_name": "PyCharm (task1)"
  },
  "language_info": {
   "codemirror_mode": {
    "name": "ipython",
    "version": 3
   },
   "file_extension": ".py",
   "mimetype": "text/x-python",
   "name": "python",
   "nbconvert_exporter": "python",
   "pygments_lexer": "ipython3",
   "version": "3.7.3"
  },
  "pycharm": {
   "stem_cell": {
    "cell_type": "raw",
    "source": [],
    "metadata": {
     "collapsed": false
    }
   }
  }
 },
 "nbformat": 4,
 "nbformat_minor": 2
}